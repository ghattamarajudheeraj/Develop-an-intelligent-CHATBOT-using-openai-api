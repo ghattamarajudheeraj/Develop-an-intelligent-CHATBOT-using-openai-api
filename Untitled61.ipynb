{
 "cells": [
  {
   "cell_type": "code",
   "execution_count": null,
   "id": "e3edb11e",
   "metadata": {},
   "outputs": [],
   "source": [
    "import sys\n",
    "import openai\n",
    "from PyQt6.QtWidgets import QApplication, QMainWindow, QVBoxLayout, QWidget, QTextBrowser, QLineEdit, QPushButton\n",
    "\n",
    "# Set your OpenAI API key\n",
    "api_key = \"YOUR_API_KEY\"\n",
    "openai.api_key = api_key\n",
    "\n",
    "class ChatbotApp(QMainWindow):\n",
    "    def _init_(self):\n",
    "        super()._init_()\n",
    "        self.initUI()\n",
    "\n",
    "    def initUI(self):\n",
    "        self.setGeometry(100, 100, 400, 400)\n",
    "        self.setWindowTitle('Chatbot Interface')\n",
    "\n",
    "        main_widget = QWidget(self)\n",
    "        self.setCentralWidget(main_widget)\n",
    "\n",
    "        layout = QVBoxLayout()\n",
    "        main_widget.setLayout(layout)\n",
    "\n",
    "        self.chat_box = QTextBrowser()\n",
    "        self.user_input = QLineEdit()\n",
    "        self.send_button = QPushButton('Send')\n",
    "\n",
    "        layout.addWidget(self.chat_box)\n",
    "        layout.addWidget(self.user_input)\n",
    "        layout.addWidget(self.send_button)\n",
    "\n",
    "        self.send_button.clicked.connect(self.send_message)\n",
    "\n",
    "    def send_message(self):\n",
    "        user_input = self.user_input.text()\n",
    "        prompt = f'You: {user_input}\\nChatbot:'\n",
    "\n",
    "        response = openai.Completion.create(\n",
    "            engine=\"text-davinci-002\",\n",
    "            prompt=prompt,\n",
    "            max_tokens=150\n",
    "        )\n",
    "\n",
    "        chatbot_response = response.choices[0].text.strip()\n",
    "\n",
    "        self.chat_box.append(f'You: {user_input}')\n",
    "        self.chat_box.append(f'Chatbot: {chatbot_response}')\n",
    "\n",
    "        self.user_input.clear()\n",
    "\n",
    "if _name_ == '_main_':\n",
    "    app = QApplication(sys.argv)\n",
    "    chatbot_app = ChatbotApp()\n",
    "    chatbot_app.show()\n",
    "    sys.exit(app.exec())"
   ]
  }
 ],
 "metadata": {
  "kernelspec": {
   "display_name": "Python 3 (ipykernel)",
   "language": "python",
   "name": "python3"
  },
  "language_info": {
   "codemirror_mode": {
    "name": "ipython",
    "version": 3
   },
   "file_extension": ".py",
   "mimetype": "text/x-python",
   "name": "python",
   "nbconvert_exporter": "python",
   "pygments_lexer": "ipython3",
   "version": "3.9.13"
  }
 },
 "nbformat": 4,
 "nbformat_minor": 5
}
